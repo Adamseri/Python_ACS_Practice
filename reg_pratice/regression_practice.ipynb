{
 "cells": [
  {
   "cell_type": "code",
   "execution_count": null,
   "metadata": {},
   "outputs": [],
   "source": [
    "import urllib3\n",
    "import pandas as pd\n",
    "\n",
    "http = urllib3.PoolManager()\n",
    "resp = http.request('GET', 'https://amazon-bodym.s3.us-west-2.amazonaws.com/testA/measurements.csv', preload_content = False)\n",
    "\n",
    "with open('measurements.csv', 'wb') as f:\n",
    "    for chunk in resp.stream(1024):\n",
    "        f.write(chunk)\n",
    "resp.release_conn()\n",
    "data = pd.read_csv('measurements.csv')\n",
    "# run regression\n",
    "print(data.head())"
   ]
  }
 ],
 "metadata": {
  "language_info": {
   "name": "python"
  }
 },
 "nbformat": 4,
 "nbformat_minor": 2
}
